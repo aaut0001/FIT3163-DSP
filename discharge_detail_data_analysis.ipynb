{
 "cells": [
  {
   "cell_type": "markdown",
   "id": "5f5b913f",
   "metadata": {},
   "source": [
    "# Import necessary libraries and load the dataset #"
   ]
  },
  {
   "cell_type": "code",
   "execution_count": 1,
   "id": "cb2a3d2a",
   "metadata": {},
   "outputs": [],
   "source": [
    "import pandas as pd\n",
    "import numpy as np\n",
    "import matplotlib.pyplot as plt\n",
    "import seaborn as sns"
   ]
  },
  {
   "cell_type": "code",
   "execution_count": 2,
   "id": "9a733c14",
   "metadata": {},
   "outputs": [],
   "source": [
    "file_path = \"C:\\\\Users\\\\zhi-n\\\\Documents\\\\FIT3163\\\\mimic-iv-note\\\\discharge_detail.csv\"\n",
    "data = pd.read_csv(file_path)"
   ]
  },
  {
   "cell_type": "markdown",
   "id": "043412af",
   "metadata": {},
   "source": [
    "# Overview of Data #"
   ]
  },
  {
   "cell_type": "code",
   "execution_count": 3,
   "id": "52e2ea94",
   "metadata": {},
   "outputs": [
    {
     "data": {
      "text/html": [
       "<div>\n",
       "<style scoped>\n",
       "    .dataframe tbody tr th:only-of-type {\n",
       "        vertical-align: middle;\n",
       "    }\n",
       "\n",
       "    .dataframe tbody tr th {\n",
       "        vertical-align: top;\n",
       "    }\n",
       "\n",
       "    .dataframe thead th {\n",
       "        text-align: right;\n",
       "    }\n",
       "</style>\n",
       "<table border=\"1\" class=\"dataframe\">\n",
       "  <thead>\n",
       "    <tr style=\"text-align: right;\">\n",
       "      <th></th>\n",
       "      <th>note_id</th>\n",
       "      <th>subject_id</th>\n",
       "      <th>field_name</th>\n",
       "      <th>field_value</th>\n",
       "      <th>field_ordinal</th>\n",
       "    </tr>\n",
       "  </thead>\n",
       "  <tbody>\n",
       "    <tr>\n",
       "      <th>0</th>\n",
       "      <td>10000032-DS-21</td>\n",
       "      <td>10000032</td>\n",
       "      <td>author</td>\n",
       "      <td>___</td>\n",
       "      <td>1</td>\n",
       "    </tr>\n",
       "    <tr>\n",
       "      <th>1</th>\n",
       "      <td>10000032-DS-22</td>\n",
       "      <td>10000032</td>\n",
       "      <td>author</td>\n",
       "      <td>___</td>\n",
       "      <td>1</td>\n",
       "    </tr>\n",
       "    <tr>\n",
       "      <th>2</th>\n",
       "      <td>10000032-DS-23</td>\n",
       "      <td>10000032</td>\n",
       "      <td>author</td>\n",
       "      <td>___</td>\n",
       "      <td>1</td>\n",
       "    </tr>\n",
       "    <tr>\n",
       "      <th>3</th>\n",
       "      <td>10000032-DS-24</td>\n",
       "      <td>10000032</td>\n",
       "      <td>author</td>\n",
       "      <td>___</td>\n",
       "      <td>1</td>\n",
       "    </tr>\n",
       "    <tr>\n",
       "      <th>4</th>\n",
       "      <td>10000084-DS-17</td>\n",
       "      <td>10000084</td>\n",
       "      <td>author</td>\n",
       "      <td>___</td>\n",
       "      <td>1</td>\n",
       "    </tr>\n",
       "    <tr>\n",
       "      <th>5</th>\n",
       "      <td>10000117-DS-21</td>\n",
       "      <td>10000117</td>\n",
       "      <td>author</td>\n",
       "      <td>___</td>\n",
       "      <td>1</td>\n",
       "    </tr>\n",
       "    <tr>\n",
       "      <th>6</th>\n",
       "      <td>10000117-DS-22</td>\n",
       "      <td>10000117</td>\n",
       "      <td>author</td>\n",
       "      <td>___</td>\n",
       "      <td>1</td>\n",
       "    </tr>\n",
       "    <tr>\n",
       "      <th>7</th>\n",
       "      <td>10000248-DS-10</td>\n",
       "      <td>10000248</td>\n",
       "      <td>author</td>\n",
       "      <td>___</td>\n",
       "      <td>1</td>\n",
       "    </tr>\n",
       "    <tr>\n",
       "      <th>8</th>\n",
       "      <td>10000560-DS-15</td>\n",
       "      <td>10000560</td>\n",
       "      <td>author</td>\n",
       "      <td>___</td>\n",
       "      <td>1</td>\n",
       "    </tr>\n",
       "    <tr>\n",
       "      <th>9</th>\n",
       "      <td>10000764-DS-11</td>\n",
       "      <td>10000764</td>\n",
       "      <td>author</td>\n",
       "      <td>___</td>\n",
       "      <td>1</td>\n",
       "    </tr>\n",
       "  </tbody>\n",
       "</table>\n",
       "</div>"
      ],
      "text/plain": [
       "          note_id  subject_id field_name field_value  field_ordinal\n",
       "0  10000032-DS-21    10000032     author         ___              1\n",
       "1  10000032-DS-22    10000032     author         ___              1\n",
       "2  10000032-DS-23    10000032     author         ___              1\n",
       "3  10000032-DS-24    10000032     author         ___              1\n",
       "4  10000084-DS-17    10000084     author         ___              1\n",
       "5  10000117-DS-21    10000117     author         ___              1\n",
       "6  10000117-DS-22    10000117     author         ___              1\n",
       "7  10000248-DS-10    10000248     author         ___              1\n",
       "8  10000560-DS-15    10000560     author         ___              1\n",
       "9  10000764-DS-11    10000764     author         ___              1"
      ]
     },
     "execution_count": 3,
     "metadata": {},
     "output_type": "execute_result"
    }
   ],
   "source": [
    "data.head(10)"
   ]
  },
  {
   "cell_type": "markdown",
   "id": "ada7fe1c",
   "metadata": {},
   "source": [
    "# Data Pre-processing #"
   ]
  },
  {
   "cell_type": "markdown",
   "id": "9383dc21",
   "metadata": {},
   "source": [
    "### Summary of Data ###"
   ]
  },
  {
   "cell_type": "markdown",
   "id": "74aeb5d4",
   "metadata": {},
   "source": [
    "#### 1. Number of Records  ####"
   ]
  },
  {
   "cell_type": "code",
   "execution_count": 4,
   "id": "7d81adc1",
   "metadata": {},
   "outputs": [
    {
     "name": "stdout",
     "output_type": "stream",
     "text": [
      "The dataset contains 331794 records and 5 columns.\n"
     ]
    }
   ],
   "source": [
    "num_records, num_columns = data.shape\n",
    "\n",
    "print(f\"The dataset contains {num_records} records and {num_columns} columns.\")"
   ]
  },
  {
   "cell_type": "markdown",
   "id": "0cd57de6",
   "metadata": {},
   "source": [
    "#### 2. Data Types  ####"
   ]
  },
  {
   "cell_type": "code",
   "execution_count": 5,
   "id": "05ebefca",
   "metadata": {},
   "outputs": [
    {
     "name": "stdout",
     "output_type": "stream",
     "text": [
      "Data types of each feature:\n",
      "note_id          object\n",
      "subject_id        int64\n",
      "field_name       object\n",
      "field_value      object\n",
      "field_ordinal     int64\n",
      "dtype: object\n"
     ]
    }
   ],
   "source": [
    "data_types = data.dtypes\n",
    "print(\"Data types of each feature:\")\n",
    "print(data_types)"
   ]
  },
  {
   "cell_type": "markdown",
   "id": "a339e919",
   "metadata": {},
   "source": [
    "# Data Analysis #"
   ]
  },
  {
   "cell_type": "markdown",
   "id": "8a02131e",
   "metadata": {},
   "source": [
    "#### Checking for Inconsistencies  ####"
   ]
  },
  {
   "cell_type": "code",
   "execution_count": 6,
   "id": "67c349c3",
   "metadata": {},
   "outputs": [
    {
     "name": "stdout",
     "output_type": "stream",
     "text": [
      "Unique values in 'field_name':\n",
      "['author']\n"
     ]
    }
   ],
   "source": [
    "unique_field_names = data['field_name'].unique()\n",
    "\n",
    "print(\"Unique values in 'field_name':\")\n",
    "print(unique_field_names)"
   ]
  },
  {
   "cell_type": "code",
   "execution_count": 7,
   "id": "cfb30b38",
   "metadata": {},
   "outputs": [
    {
     "name": "stdout",
     "output_type": "stream",
     "text": [
      "\n",
      "Occurrences of the '___' placeholder in 'field_value': 331794\n"
     ]
    }
   ],
   "source": [
    "# Check for frequent appearance of the '___' placeholder\n",
    "placeholder_count = (data['field_value'] == '___').sum()\n",
    "print(f\"\\nOccurrences of the '___' placeholder in 'field_value': {placeholder_count}\")\n"
   ]
  },
  {
   "cell_type": "markdown",
   "id": "384bcaf9",
   "metadata": {},
   "source": [
    "#### Checking for missing values ####"
   ]
  },
  {
   "cell_type": "code",
   "execution_count": 14,
   "id": "5d32744f",
   "metadata": {},
   "outputs": [
    {
     "name": "stdout",
     "output_type": "stream",
     "text": [
      "Missing values for each feature:\n",
      "note_id          0\n",
      "subject_id       0\n",
      "field_name       0\n",
      "field_value      0\n",
      "field_ordinal    0\n",
      "dtype: int64\n"
     ]
    }
   ],
   "source": [
    "missing_values = data.isnull().sum()\n",
    "\n",
    "print(\"Missing values for each feature:\")\n",
    "print(missing_values)\n",
    "\n"
   ]
  },
  {
   "cell_type": "markdown",
   "id": "70da68d7",
   "metadata": {},
   "source": [
    "### **Since this table mainly provides auxiliary information about authors (anonymized), combining it with the discharge table in the future might provide more comprehensive insights. ###"
   ]
  },
  {
   "cell_type": "code",
   "execution_count": null,
   "id": "08917f12",
   "metadata": {},
   "outputs": [],
   "source": []
  }
 ],
 "metadata": {
  "kernelspec": {
   "display_name": "Python 3 (ipykernel)",
   "language": "python",
   "name": "python3"
  },
  "language_info": {
   "codemirror_mode": {
    "name": "ipython",
    "version": 3
   },
   "file_extension": ".py",
   "mimetype": "text/x-python",
   "name": "python",
   "nbconvert_exporter": "python",
   "pygments_lexer": "ipython3",
   "version": "3.10.9"
  }
 },
 "nbformat": 4,
 "nbformat_minor": 5
}
