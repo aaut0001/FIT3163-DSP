{
 "cells": [
  {
   "cell_type": "code",
   "execution_count": 1,
   "metadata": {},
   "outputs": [],
   "source": [
    "import pandas as pd\n",
    "import re"
   ]
  },
  {
   "cell_type": "code",
   "execution_count": 2,
   "metadata": {},
   "outputs": [],
   "source": [
    "df_radiology = pd.read_csv(\"radiology.csv\")"
   ]
  },
  {
   "cell_type": "code",
   "execution_count": 3,
   "metadata": {},
   "outputs": [],
   "source": [
    "pd.set_option('display.max_colwidth', None)"
   ]
  },
  {
   "cell_type": "code",
   "execution_count": 4,
   "metadata": {},
   "outputs": [
    {
     "data": {
      "text/html": [
       "<div>\n",
       "<style scoped>\n",
       "    .dataframe tbody tr th:only-of-type {\n",
       "        vertical-align: middle;\n",
       "    }\n",
       "\n",
       "    .dataframe tbody tr th {\n",
       "        vertical-align: top;\n",
       "    }\n",
       "\n",
       "    .dataframe thead th {\n",
       "        text-align: right;\n",
       "    }\n",
       "</style>\n",
       "<table border=\"1\" class=\"dataframe\">\n",
       "  <thead>\n",
       "    <tr style=\"text-align: right;\">\n",
       "      <th></th>\n",
       "      <th>note_id</th>\n",
       "      <th>subject_id</th>\n",
       "      <th>hadm_id</th>\n",
       "      <th>note_type</th>\n",
       "      <th>note_seq</th>\n",
       "      <th>charttime</th>\n",
       "      <th>storetime</th>\n",
       "      <th>text</th>\n",
       "    </tr>\n",
       "  </thead>\n",
       "  <tbody>\n",
       "    <tr>\n",
       "      <th>0</th>\n",
       "      <td>10000032-RR-14</td>\n",
       "      <td>10000032</td>\n",
       "      <td>22595853.0</td>\n",
       "      <td>RR</td>\n",
       "      <td>14</td>\n",
       "      <td>2180-05-06 21:19:00</td>\n",
       "      <td>2180-05-06 23:32:00</td>\n",
       "      <td>EXAMINATION:  CHEST (PA AND LAT)\\n\\nINDICATION:  ___ with new onset ascites  // eval for infection\\n\\nTECHNIQUE:  Chest PA and lateral\\n\\nCOMPARISON:  None.\\n\\nFINDINGS: \\n\\nThere is no focal consolidation, pleural effusion or pneumothorax.  Bilateral\\nnodular opacities that most likely represent nipple shadows. The\\ncardiomediastinal silhouette is normal.  Clips project over the left lung,\\npotentially within the breast. The imaged upper abdomen is unremarkable.\\nChronic deformity of the posterior left sixth and seventh ribs are noted.\\n\\nIMPRESSION: \\n\\nNo acute cardiopulmonary process.\\n</td>\n",
       "    </tr>\n",
       "    <tr>\n",
       "      <th>1</th>\n",
       "      <td>10000032-RR-15</td>\n",
       "      <td>10000032</td>\n",
       "      <td>22595853.0</td>\n",
       "      <td>RR</td>\n",
       "      <td>15</td>\n",
       "      <td>2180-05-06 23:00:00</td>\n",
       "      <td>2180-05-06 23:26:00</td>\n",
       "      <td>EXAMINATION:  LIVER OR GALLBLADDER US (SINGLE ORGAN)\\n\\nINDICATION:  ___ year-old female with cirrhosis, jaundice.\\n\\nTECHNIQUE:  Grey scale and color Doppler ultrasound images of the abdomen were\\nobtained.\\n\\nCOMPARISON:  None.\\n\\nFINDINGS: \\n\\nLIVER: The liver is coarsened and nodular in echotexture. There is no focal\\nliver mass. Main portal vein and its major branches are patent with normal\\nhepatopetal flow.  The main hepatic artery shows normal arterial waveform. \\nThere is a small amount of ascites.\\n\\nBILE DUCTS: There is no intrahepatic biliary dilation. The CBD measures 4 mm.\\n\\nGALLBLADDER: The gallbladder is contracted with a shadowing gallstone.\\n\\nPANCREAS: Imaged portion of the pancreas appears within normal limits, without\\nmasses or pancreatic ductal dilation, with portions of the pancreatic tail\\nobscured by overlying bowel gas.\\n\\nSPLEEN: Normal echogenicity, measuring 13.5 cm.\\n\\nKIDNEYS: The right kidney measures 12.1 cm. The left kidney measures 13.4 cm.\\nNormal cortical echogenicity and corticomedullary differentiation is seen\\nbilaterally.\\nRETROPERITONEUM: Visualized portions of aorta and IVC are within normal\\nlimits.\\n\\nIMPRESSION: \\n\\n1. Nodular appearance of the liver compatible with cirrhosis. Signs of portal\\nhypertension including small amount of ascites and splenomegaly.\\n2.  Cholelithiasis.\\n3.  Patent portal veins with normal hepatopetal flow.\\n</td>\n",
       "    </tr>\n",
       "    <tr>\n",
       "      <th>2</th>\n",
       "      <td>10000032-RR-16</td>\n",
       "      <td>10000032</td>\n",
       "      <td>22595853.0</td>\n",
       "      <td>RR</td>\n",
       "      <td>16</td>\n",
       "      <td>2180-05-07 09:55:00</td>\n",
       "      <td>2180-05-07 11:15:00</td>\n",
       "      <td>INDICATION:  ___ HCV cirrhosis c/b ascites, hiv on ART, h/o IVDU, COPD,\\nbioplar, PTSD, presented from OSH ED with worsening abd distension over past\\nweek.  // SBP\\n\\nTECHNIQUE:  Ultrasound guided diagnostic and therapeutic paracentesis\\n\\nCOMPARISON:  Abdominal ultrasound ___\\n\\nFINDINGS: \\n\\nLimited grayscale ultrasound imaging of the abdomen demonstrated\\nmoderateascites. A suitable target in the deepest pocket in the right lower\\nquadrant was selected for paracentesis.\\n\\nPROCEDURE:  The procedure, risks, benefits and alternatives were discussed\\nwith the patient and written informed consent was obtained.\\n\\nA preprocedure time-out was performed discussing the planned procedure,\\nconfirming the patient's identity with 3 identifiers, and reviewing a\\nchecklist per ___ protocol.\\n\\nUnder ultrasound guidance, an entrance site was selected and the skin was\\nprepped and draped in the usual sterile fashion. 1% lidocaine was instilled\\nfor local anesthesia.\\n\\nA 5 ___ catheter was advanced into the largest fluid pocket in the right\\nlower quadrant and 1.5 L of serosanguinous fluid was removed.\\n\\nThe patient tolerated the procedure well without immediate complication.\\nEstimated blood loss was minimal.  A sample of the fluid was sent to the lab\\nas requested.\\n\\nDr. ___ attending radiologist, was present throughout the critical\\nportions of the procedure.\\n\\nIMPRESSION: \\n\\nSuccessful uncomplicated ultrasound guided diagnostic and therapeutic\\nparacentesis yielding 1.5 L of serosanguineous fluid from the right lower\\nquadrant.  Sample was sent to the lab as requested.\\n</td>\n",
       "    </tr>\n",
       "    <tr>\n",
       "      <th>3</th>\n",
       "      <td>10000032-RR-18</td>\n",
       "      <td>10000032</td>\n",
       "      <td>NaN</td>\n",
       "      <td>RR</td>\n",
       "      <td>18</td>\n",
       "      <td>2180-06-03 12:46:00</td>\n",
       "      <td>2180-06-03 14:01:00</td>\n",
       "      <td>EXAMINATION:  Ultrasound-guided paracentesis.\\n\\nINDICATION:  ___ year old woman with cirrhosis, ascites despite diuretics  //\\nPlease do LVP with albumin post per protocol\\n\\nTECHNIQUE:  Ultrasound guided therapeutic paracentesis\\n\\nCOMPARISON:  ___.\\n\\nFINDINGS: \\n\\nLimited grayscale ultrasound imaging of the abdomen demonstrated\\nmoderateascites. A suitable target in the deepest pocket in the right lower\\nquadrant was selected for paracentesis.\\n\\nPROCEDURE:  The procedure, risks, benefits and alternatives were discussed\\nwith the patient and written informed consent was obtained.\\n\\nA preprocedure time-out was performed discussing the planned procedure,\\nconfirming the patient's identity with 3 identifiers, and reviewing a\\nchecklist per ___ protocol.\\n\\nUnder ultrasound guidance, an entrance site was selected and the skin was\\nprepped and draped in the usual sterile fashion. 1% lidocaine was instilled\\nfor local anesthesia.\\n\\nA 5 ___ catheter was advanced into the largest fluid pocket in the right\\nlower quadrant and 1.75 L of clear, straw-coloredfluid was removed.\\n\\nThe patient tolerated the procedure well without immediate complication.\\nEstimated blood loss was minimal.\\n\\nDr. ___ attending radiologist, personally supervised the procedure,\\nsubsequently reviewing and has agreed with the preliminary findings.\\n\\nIMPRESSION: \\n\\nUneventful therapeutic paracentesis yielding 1.75 L of clear, straw-colored\\nascitic fluid.\\n</td>\n",
       "    </tr>\n",
       "    <tr>\n",
       "      <th>4</th>\n",
       "      <td>10000032-RR-20</td>\n",
       "      <td>10000032</td>\n",
       "      <td>NaN</td>\n",
       "      <td>RR</td>\n",
       "      <td>20</td>\n",
       "      <td>2180-07-08 13:18:00</td>\n",
       "      <td>2180-07-08 14:15:00</td>\n",
       "      <td>EXAMINATION:  Paracentesis\\n\\nINDICATION:  ___ year old woman with cirrhosis, ascites despite diuretics  //\\nPlease do LVP with albumin post per protocol\\n\\nTECHNIQUE:  Ultrasound guided therapeutic paracentesis\\n\\nCOMPARISON:  Paracentesis on ___\\n\\nFINDINGS: \\n\\nLimited grayscale ultrasound imaging of the abdomen demonstrated a large\\namount of ascites. A suitable target in the deepest pocket in the right lower\\nquadrant was selected for paracentesis.\\n\\nPROCEDURE:  The procedure, risks, benefits and alternatives were discussed\\nwith the patient and written informed consent was obtained.\\n\\nA preprocedure time-out was performed discussing the planned procedure,\\nconfirming the patient's identity with 3 identifiers, and reviewing a\\nchecklist per ___ protocol.\\n\\nUnder ultrasound guidance, an entrance site was selected and the skin was\\nprepped and draped in the usual sterile fashion. 1% lidocaine was instilled\\nfor local anesthesia.\\n\\nA 5 ___ catheter was advanced into the largest fluid pocket in the right\\nlower quadrant and 4.75 L of slightly cloudy, blood tinged, yellow fluid was\\nremoved, similar to the prior exam in appearance.\\n\\nThe patient tolerated the procedure well without immediate complication.\\nEstimated blood loss was minimal.\\n\\nDr. ___ supervised the trainee during the key components of the\\nprocedure and reviewed and agrees with the trainee's findings.\\n\\nIMPRESSION: \\n\\n4.75 L of slightly cloudy, blood tinged fluid was removed from the right lower\\nquadrant without complication.\\n</td>\n",
       "    </tr>\n",
       "  </tbody>\n",
       "</table>\n",
       "</div>"
      ],
      "text/plain": [
       "          note_id  subject_id     hadm_id note_type  note_seq  \\\n",
       "0  10000032-RR-14    10000032  22595853.0        RR        14   \n",
       "1  10000032-RR-15    10000032  22595853.0        RR        15   \n",
       "2  10000032-RR-16    10000032  22595853.0        RR        16   \n",
       "3  10000032-RR-18    10000032         NaN        RR        18   \n",
       "4  10000032-RR-20    10000032         NaN        RR        20   \n",
       "\n",
       "             charttime            storetime  \\\n",
       "0  2180-05-06 21:19:00  2180-05-06 23:32:00   \n",
       "1  2180-05-06 23:00:00  2180-05-06 23:26:00   \n",
       "2  2180-05-07 09:55:00  2180-05-07 11:15:00   \n",
       "3  2180-06-03 12:46:00  2180-06-03 14:01:00   \n",
       "4  2180-07-08 13:18:00  2180-07-08 14:15:00   \n",
       "\n",
       "                                                                                                                                                                                                                                                                                                                                                                                                                                                                                                                                                                                                                                                                                                                                                                                                                                                                                                                                                                                                                                                                                                                                                                                                                                                                                                                                                                                                                                                                                                                                                                                                                                                         text  \n",
       "0                                                                                                                                                                                                                                                                                                                                                                                                                                                                                                                                                                                                                                                                                                                                                                                                                                                                                                                                                                                                                                       EXAMINATION:  CHEST (PA AND LAT)\\n\\nINDICATION:  ___ with new onset ascites  // eval for infection\\n\\nTECHNIQUE:  Chest PA and lateral\\n\\nCOMPARISON:  None.\\n\\nFINDINGS: \\n\\nThere is no focal consolidation, pleural effusion or pneumothorax.  Bilateral\\nnodular opacities that most likely represent nipple shadows. The\\ncardiomediastinal silhouette is normal.  Clips project over the left lung,\\npotentially within the breast. The imaged upper abdomen is unremarkable.\\nChronic deformity of the posterior left sixth and seventh ribs are noted.\\n\\nIMPRESSION: \\n\\nNo acute cardiopulmonary process.\\n  \n",
       "1                                                                                                                                                                                                 EXAMINATION:  LIVER OR GALLBLADDER US (SINGLE ORGAN)\\n\\nINDICATION:  ___ year-old female with cirrhosis, jaundice.\\n\\nTECHNIQUE:  Grey scale and color Doppler ultrasound images of the abdomen were\\nobtained.\\n\\nCOMPARISON:  None.\\n\\nFINDINGS: \\n\\nLIVER: The liver is coarsened and nodular in echotexture. There is no focal\\nliver mass. Main portal vein and its major branches are patent with normal\\nhepatopetal flow.  The main hepatic artery shows normal arterial waveform. \\nThere is a small amount of ascites.\\n\\nBILE DUCTS: There is no intrahepatic biliary dilation. The CBD measures 4 mm.\\n\\nGALLBLADDER: The gallbladder is contracted with a shadowing gallstone.\\n\\nPANCREAS: Imaged portion of the pancreas appears within normal limits, without\\nmasses or pancreatic ductal dilation, with portions of the pancreatic tail\\nobscured by overlying bowel gas.\\n\\nSPLEEN: Normal echogenicity, measuring 13.5 cm.\\n\\nKIDNEYS: The right kidney measures 12.1 cm. The left kidney measures 13.4 cm.\\nNormal cortical echogenicity and corticomedullary differentiation is seen\\nbilaterally.\\nRETROPERITONEUM: Visualized portions of aorta and IVC are within normal\\nlimits.\\n\\nIMPRESSION: \\n\\n1. Nodular appearance of the liver compatible with cirrhosis. Signs of portal\\nhypertension including small amount of ascites and splenomegaly.\\n2.  Cholelithiasis.\\n3.  Patent portal veins with normal hepatopetal flow.\\n  \n",
       "2  INDICATION:  ___ HCV cirrhosis c/b ascites, hiv on ART, h/o IVDU, COPD,\\nbioplar, PTSD, presented from OSH ED with worsening abd distension over past\\nweek.  // SBP\\n\\nTECHNIQUE:  Ultrasound guided diagnostic and therapeutic paracentesis\\n\\nCOMPARISON:  Abdominal ultrasound ___\\n\\nFINDINGS: \\n\\nLimited grayscale ultrasound imaging of the abdomen demonstrated\\nmoderateascites. A suitable target in the deepest pocket in the right lower\\nquadrant was selected for paracentesis.\\n\\nPROCEDURE:  The procedure, risks, benefits and alternatives were discussed\\nwith the patient and written informed consent was obtained.\\n\\nA preprocedure time-out was performed discussing the planned procedure,\\nconfirming the patient's identity with 3 identifiers, and reviewing a\\nchecklist per ___ protocol.\\n\\nUnder ultrasound guidance, an entrance site was selected and the skin was\\nprepped and draped in the usual sterile fashion. 1% lidocaine was instilled\\nfor local anesthesia.\\n\\nA 5 ___ catheter was advanced into the largest fluid pocket in the right\\nlower quadrant and 1.5 L of serosanguinous fluid was removed.\\n\\nThe patient tolerated the procedure well without immediate complication.\\nEstimated blood loss was minimal.  A sample of the fluid was sent to the lab\\nas requested.\\n\\nDr. ___ attending radiologist, was present throughout the critical\\nportions of the procedure.\\n\\nIMPRESSION: \\n\\nSuccessful uncomplicated ultrasound guided diagnostic and therapeutic\\nparacentesis yielding 1.5 L of serosanguineous fluid from the right lower\\nquadrant.  Sample was sent to the lab as requested.\\n  \n",
       "3                                                                                                                                                EXAMINATION:  Ultrasound-guided paracentesis.\\n\\nINDICATION:  ___ year old woman with cirrhosis, ascites despite diuretics  //\\nPlease do LVP with albumin post per protocol\\n\\nTECHNIQUE:  Ultrasound guided therapeutic paracentesis\\n\\nCOMPARISON:  ___.\\n\\nFINDINGS: \\n\\nLimited grayscale ultrasound imaging of the abdomen demonstrated\\nmoderateascites. A suitable target in the deepest pocket in the right lower\\nquadrant was selected for paracentesis.\\n\\nPROCEDURE:  The procedure, risks, benefits and alternatives were discussed\\nwith the patient and written informed consent was obtained.\\n\\nA preprocedure time-out was performed discussing the planned procedure,\\nconfirming the patient's identity with 3 identifiers, and reviewing a\\nchecklist per ___ protocol.\\n\\nUnder ultrasound guidance, an entrance site was selected and the skin was\\nprepped and draped in the usual sterile fashion. 1% lidocaine was instilled\\nfor local anesthesia.\\n\\nA 5 ___ catheter was advanced into the largest fluid pocket in the right\\nlower quadrant and 1.75 L of clear, straw-coloredfluid was removed.\\n\\nThe patient tolerated the procedure well without immediate complication.\\nEstimated blood loss was minimal.\\n\\nDr. ___ attending radiologist, personally supervised the procedure,\\nsubsequently reviewing and has agreed with the preliminary findings.\\n\\nIMPRESSION: \\n\\nUneventful therapeutic paracentesis yielding 1.75 L of clear, straw-colored\\nascitic fluid.\\n  \n",
       "4                                                                     EXAMINATION:  Paracentesis\\n\\nINDICATION:  ___ year old woman with cirrhosis, ascites despite diuretics  //\\nPlease do LVP with albumin post per protocol\\n\\nTECHNIQUE:  Ultrasound guided therapeutic paracentesis\\n\\nCOMPARISON:  Paracentesis on ___\\n\\nFINDINGS: \\n\\nLimited grayscale ultrasound imaging of the abdomen demonstrated a large\\namount of ascites. A suitable target in the deepest pocket in the right lower\\nquadrant was selected for paracentesis.\\n\\nPROCEDURE:  The procedure, risks, benefits and alternatives were discussed\\nwith the patient and written informed consent was obtained.\\n\\nA preprocedure time-out was performed discussing the planned procedure,\\nconfirming the patient's identity with 3 identifiers, and reviewing a\\nchecklist per ___ protocol.\\n\\nUnder ultrasound guidance, an entrance site was selected and the skin was\\nprepped and draped in the usual sterile fashion. 1% lidocaine was instilled\\nfor local anesthesia.\\n\\nA 5 ___ catheter was advanced into the largest fluid pocket in the right\\nlower quadrant and 4.75 L of slightly cloudy, blood tinged, yellow fluid was\\nremoved, similar to the prior exam in appearance.\\n\\nThe patient tolerated the procedure well without immediate complication.\\nEstimated blood loss was minimal.\\n\\nDr. ___ supervised the trainee during the key components of the\\nprocedure and reviewed and agrees with the trainee's findings.\\n\\nIMPRESSION: \\n\\n4.75 L of slightly cloudy, blood tinged fluid was removed from the right lower\\nquadrant without complication.\\n  "
      ]
     },
     "execution_count": 4,
     "metadata": {},
     "output_type": "execute_result"
    }
   ],
   "source": [
    "df_radiology.head(5)"
   ]
  },
  {
   "cell_type": "code",
   "execution_count": null,
   "metadata": {},
   "outputs": [],
   "source": []
  }
 ],
 "metadata": {
  "kernelspec": {
   "display_name": "my_venv",
   "language": "python",
   "name": "python3"
  },
  "language_info": {
   "codemirror_mode": {
    "name": "ipython",
    "version": 3
   },
   "file_extension": ".py",
   "mimetype": "text/x-python",
   "name": "python",
   "nbconvert_exporter": "python",
   "pygments_lexer": "ipython3",
   "version": "3.8.8"
  },
  "orig_nbformat": 4
 },
 "nbformat": 4,
 "nbformat_minor": 2
}
